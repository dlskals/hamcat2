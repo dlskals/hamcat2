{
 "cells": [
  {
   "cell_type": "code",
   "execution_count": 7,
   "id": "db4c1eb5",
   "metadata": {},
   "outputs": [
    {
     "name": "stdout",
     "output_type": "stream",
     "text": [
      "시즌 1, 무기 수 20, 페이지 수 1\n",
      "시즌 2, 무기 수 10, 페이지 수 1\n",
      "시즌 3, 무기 수 11, 페이지 수 1\n",
      "시즌 4, 무기 수 13, 페이지 수 1\n",
      "시즌 5, 무기 수 5, 페이지 수 1\n",
      "시즌 6, 무기 수 4, 페이지 수 1\n",
      "시즌 7, 무기 수 5, 페이지 수 1\n",
      "시즌 8, 무기 수 8, 페이지 수 1\n",
      "시즌 9, 무기 수 4, 페이지 수 1\n",
      "시즌 10, 무기 수 4, 페이지 수 1\n",
      "시즌 11, 무기 수 4, 페이지 수 1\n",
      "시즌 12, 무기 수 8, 페이지 수 1\n",
      "시즌 13, 무기 수 3, 페이지 수 1\n",
      "시즌 14, 무기 수 2, 페이지 수 1\n",
      "시즌 15, 무기 수 4, 페이지 수 1\n",
      "시즌 16, 무기 수 8, 페이지 수 1\n",
      "시즌 17, 무기 수 2, 페이지 수 1\n",
      "시즌 18, 무기 수 3, 페이지 수 1\n",
      "시즌 19, 무기 수 3, 페이지 수 1\n",
      "시즌 20, 무기 수 6, 페이지 수 1\n",
      "시즌 21, 무기 수 3, 페이지 수 1\n",
      "시즌 22, 무기 수 5, 페이지 수 1\n",
      "완료\n"
     ]
    }
   ],
   "source": [
    "import requests\n",
    "from bs4 import BeautifulSoup\n",
    "import math\n",
    "\n",
    "exotic_list = {}\n",
    "\n",
    "headers = {\"User-Agent\": \"Mozilla/5.0 (Windows NT 6.3; WOW64) AppleWebKit/537.36 (KHTML, like Gecko) Chrome/44.0.2403.157 Safari/537.36\"}\n",
    "\n",
    "for i in range(22):\n",
    "    count_url = f\"https://www.light.gg/db/category/-1?page=1&f=5%28{i+1}%29%2C2\"\n",
    "    request = requests.get(count_url, headers = headers)\n",
    "    page = BeautifulSoup(request.text, 'lxml')\n",
    "    exotic_count = page.find('div',attrs={'class':'pagination'}).text\n",
    "    p1 = exotic_count.find(\"-\")\n",
    "    p2 = exotic_count.find(\"of\")\n",
    "    page_count = math.ceil(int(exotic_count[p1+2:p2-1]) / 50)\n",
    "    \n",
    "    print(f\"시즌 {i+1}, 무기 수 {exotic_count[p1+2:p2-1]}, 페이지 수 {page_count}\")\n",
    "    for c in range(page_count):\n",
    "        url = f\"https://www.light.gg/db/category/-1?page={c+1}&f=5%28{i+1}%29%2C2\"\n",
    "        res = requests.get(url, headers = headers)\n",
    "        soup = BeautifulSoup(res.text, 'lxml')\n",
    "\n",
    "        items = soup.findAll('div',attrs={'class':'item-row item-row-6'})\n",
    "        for w in items:\n",
    "            name = w.find('a',attrs={'class':'text-exotic'}).text\n",
    "            l = w.find('a',attrs={'class':'text-exotic'}).get(\"href\")\n",
    "            if name in exotic_list:\n",
    "                continue\n",
    "            else :\n",
    "                exotic_list[name] = f'https://www.light.gg{l}\\n'\n",
    "print('완료')"
   ]
  },
  {
   "cell_type": "code",
   "execution_count": 8,
   "id": "4caf5f5e",
   "metadata": {},
   "outputs": [],
   "source": [
    "import pandas as pd\n",
    "\n",
    "exotic_list1 = [dict(exotic_list)]\n",
    "exotic_list_df = pd.DataFrame(exotic_list1, index = ['cat_egory'])\n",
    "exotic_list_df.to_csv('exo.csv',index=False,encoding='utf-8-sig')"
   ]
  }
 ],
 "metadata": {
  "kernelspec": {
   "display_name": "Python 3 (ipykernel)",
   "language": "python",
   "name": "python3"
  },
  "language_info": {
   "codemirror_mode": {
    "name": "ipython",
    "version": 3
   },
   "file_extension": ".py",
   "mimetype": "text/x-python",
   "name": "python",
   "nbconvert_exporter": "python",
   "pygments_lexer": "ipython3",
   "version": "3.11.4"
  }
 },
 "nbformat": 4,
 "nbformat_minor": 5
}
