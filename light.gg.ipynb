{
 "cells": [
  {
   "cell_type": "code",
   "execution_count": 7,
   "id": "db4c1eb5",
   "metadata": {},
   "outputs": [
    {
     "name": "stdout",
     "output_type": "stream",
     "text": [
      "시즌 1, 무기 수 20, 페이지 수 1\n",
      "시즌 2, 무기 수 10, 페이지 수 1\n",
      "시즌 3, 무기 수 11, 페이지 수 1\n",
      "시즌 4, 무기 수 13, 페이지 수 1\n",
      "시즌 5, 무기 수 5, 페이지 수 1\n",
      "시즌 6, 무기 수 4, 페이지 수 1\n",
      "시즌 7, 무기 수 5, 페이지 수 1\n",
      "시즌 8, 무기 수 8, 페이지 수 1\n",
      "시즌 9, 무기 수 4, 페이지 수 1\n",
      "시즌 10, 무기 수 4, 페이지 수 1\n",
      "시즌 11, 무기 수 4, 페이지 수 1\n",
      "시즌 12, 무기 수 8, 페이지 수 1\n",
      "시즌 13, 무기 수 3, 페이지 수 1\n",
      "시즌 14, 무기 수 2, 페이지 수 1\n",
      "시즌 15, 무기 수 4, 페이지 수 1\n",
      "시즌 16, 무기 수 8, 페이지 수 1\n",
      "시즌 17, 무기 수 2, 페이지 수 1\n",
      "시즌 18, 무기 수 3, 페이지 수 1\n",
      "시즌 19, 무기 수 3, 페이지 수 1\n",
      "시즌 20, 무기 수 6, 페이지 수 1\n",
      "시즌 21, 무기 수 3, 페이지 수 1\n",
      "시즌 22, 무기 수 5, 페이지 수 1\n",
      "완료\n"
     ]
    }
   ],
   "source": [
    "import requests\n",
    "from bs4 import BeautifulSoup\n",
    "import math\n",
    "\n",
    "exotic_list = {}\n",
    "\n",
    "headers = {\"User-Agent\": \"Mozilla/5.0 (Windows NT 6.3; WOW64) AppleWebKit/537.36 (KHTML, like Gecko) Chrome/44.0.2403.157 Safari/537.36\"}\n",
    "\n",
    "for i in range(22):\n",
    "    count_url = f\"https://www.light.gg/db/category/-1?page=1&f=5%28{i+1}%29%2C2\"\n",
    "    request = requests.get(count_url, headers = headers)\n",
    "    page = BeautifulSoup(request.text, 'lxml')\n",
    "    exotic_count = page.find('div',attrs={'class':'pagination'}).text\n",
    "    p1 = exotic_count.find(\"-\")\n",
    "    p2 = exotic_count.find(\"of\")\n",
    "    page_count = math.ceil(int(exotic_count[p1+2:p2-1]) / 50)\n",
    "    \n",
    "    print(f\"시즌 {i+1}, 무기 수 {exotic_count[p1+2:p2-1]}, 페이지 수 {page_count}\")\n",
    "    for c in range(page_count):\n",
    "        url = f\"https://www.light.gg/db/category/-1?page={c+1}&f=5%28{i+1}%29%2C2\"\n",
    "        res = requests.get(url, headers = headers)\n",
    "        soup = BeautifulSoup(res.text, 'lxml')\n",
    "\n",
    "        items = soup.findAll('div',attrs={'class':'item-row item-row-6'})\n",
    "        for w in items:\n",
    "            name = w.find('a',attrs={'class':'text-exotic'}).text\n",
    "            l = w.find('a',attrs={'class':'text-exotic'}).get(\"href\")\n",
    "            if name in exotic_list:\n",
    "                continue\n",
    "            else :\n",
    "                exotic_list[name] = f'https://www.light.gg{l}\\n'\n",
    "print('완료')"
   ]
  },
  {
   "cell_type": "code",
   "execution_count": 8,
   "id": "4caf5f5e",
   "metadata": {},
   "outputs": [],
   "source": [
    "import pandas as pd\n",
    "\n",
    "exotic_list1 = [dict(exotic_list)]\n",
    "exotic_list_df = pd.DataFrame(exotic_list1, index = ['cat_egory'])\n",
    "exotic_list_df.to_csv('exo.csv',index=False,encoding='utf-8-sig')"
   ]
  },
  {
   "cell_type": "code",
   "execution_count": 84,
   "id": "4b223ef3",
   "metadata": {},
   "outputs": [
    {
     "data": {
      "text/plain": [
       "50"
      ]
     },
     "execution_count": 84,
     "metadata": {},
     "output_type": "execute_result"
    }
   ],
   "source": [
    "newitems = soup.findAll('div',attrs={'class':'item-row item-row-7'})\n",
    "len(newitems)"
   ]
  },
  {
   "cell_type": "code",
   "execution_count": 85,
   "id": "4b84112b",
   "metadata": {},
   "outputs": [
    {
     "data": {
      "text/plain": [
       "<div class=\"item-row item-row-7\">\n",
       "<div class=\"item-check\">\n",
       "<i :class=\"['fa',{'fa-check-square': ItemInCompareList(2535142413),'fa-regular fa-square': !ItemInCompareList(2535142413)}]\"></i>\n",
       "</div>\n",
       "<div class=\"item show-hover item-icon\" data-id=\"2535142413\">\n",
       "<img class=\"corner-watermark\" src=\"https://www.bungie.net/common/destiny2_content/icons/b973f89ecd631a3e3d294e98268f7134.png\"/>\n",
       "<a href=\"/db/items/2535142413\"><img alt=\" \" src=\"https://www.bungie.net/common/destiny2_content/icons/add494c1e1fbdb062b7f6dc4c179c35b.jpg\"/></a>\n",
       "</div>\n",
       "<div class=\"exotic item-name\">\n",
       "<a class=\"text-exotic\" href=\"/db/items/2535142413\">Edge of Action</a>\n",
       "<br/>\n",
       "<em>An echo of an ancient weapon, forged from a memory of strength.</em>\n",
       "<div class=\"hidden-sm hidden-md hidden-lg clearfix\">\n",
       "Exotic  / Titan /                                    <img class=\"weapon-element\" src=\"/Content/Images/void-small-icon.png\" style=\"left:0px;\"/>\n",
       "\n",
       "                        Energy / Glaive\n",
       "                    </div>\n",
       "</div>\n",
       "<div class=\"hidden-xs\">Titan</div>\n",
       "<div class=\"hidden-xs text-exotic\">Exotic </div>\n",
       "<div class=\"hidden-xs\">\n",
       "<img class=\"weapon-element\" src=\"/Content/Images/void-small-icon.png\" title=\"VOID\"/>\n",
       "                        Energy\n",
       "                    </div>\n",
       "<div class=\"hidden-xs\">\n",
       "\n",
       "                    Glaive\n",
       "\n",
       "                </div>\n",
       "<div class=\"item-rating hidden-xs\">\n",
       "<div>\n",
       "<i class=\"fa fa-star\"></i>\n",
       "<i class=\"fa fa-star\"></i>\n",
       "<i class=\"fa fa-star\"></i>\n",
       "<i class=\"fa fa-star fa-regular\"></i>\n",
       "<i class=\"fa fa-star fa-regular\"></i>\n",
       "</div>\n",
       "<div class=\"col-xs-6\">\n",
       "<img alt=\"PVE\" src=\"/Content/Images/pve-icon.png\"/>\n",
       "<span>3.9</span>\n",
       "</div>\n",
       "<div class=\"col-xs-6\">\n",
       "<img alt=\"PVP\" src=\"/Content/Images/pvp-icon.png\"/>\n",
       "<span>2.3</span>\n",
       "</div>\n",
       "</div>\n",
       "</div>"
      ]
     },
     "execution_count": 85,
     "metadata": {},
     "output_type": "execute_result"
    }
   ],
   "source": [
    "newitems[0]"
   ]
  },
  {
   "cell_type": "code",
   "execution_count": 87,
   "id": "7812b44a",
   "metadata": {},
   "outputs": [
    {
     "data": {
      "text/plain": [
       "<div class=\"item-row item-row-7\">\n",
       "<div class=\"item-check\">\n",
       "<i :class=\"['fa',{'fa-check-square': ItemInCompareList(3260753130),'fa-regular fa-square': !ItemInCompareList(3260753130)}]\"></i>\n",
       "</div>\n",
       "<div class=\"item show-hover item-icon\" data-id=\"3260753130\">\n",
       "<img class=\"corner-watermark\" src=\"https://www.bungie.net/common/destiny2_content/icons/5ac4a1d48a5221993a41a5bb524eda1b.png\"/>\n",
       "<a href=\"/db/items/3260753130\"><img alt=\" \" src=\"https://www.bungie.net/common/destiny2_content/icons/39ef1673136f2f463879a83a44f11b0d.jpg\"/></a>\n",
       "</div>\n",
       "<div class=\"exotic item-name\">\n",
       "<a class=\"text-exotic\" href=\"/db/items/3260753130\">Ticuu's Divination</a>\n",
       "<br/>\n",
       "<em>Three points, pushed through forever.</em>\n",
       "<div class=\"hidden-sm hidden-md hidden-lg clearfix\">\n",
       "Exotic  /                                    <img class=\"weapon-element\" src=\"/Content/Images/solar-small-icon.png\" style=\"left:0px;\"/>\n",
       "\n",
       "                        Energy / Combat Bow\n",
       "                    </div>\n",
       "</div>\n",
       "<div class=\"hidden-xs class\">-</div>\n",
       "<div class=\"hidden-xs text-exotic\">Exotic </div>\n",
       "<div class=\"hidden-xs\">\n",
       "<img class=\"weapon-element\" src=\"/Content/Images/solar-small-icon.png\" title=\"SOLAR\"/>\n",
       "                        Energy\n",
       "                    </div>\n",
       "<div class=\"hidden-xs\">\n",
       "\n",
       "                    Combat Bow\n",
       "\n",
       "                </div>\n",
       "<div class=\"item-rating hidden-xs\">\n",
       "<div>\n",
       "<i class=\"fa fa-star\"></i>\n",
       "<i class=\"fa fa-star\"></i>\n",
       "<i class=\"fa fa-star\"></i>\n",
       "<i class=\"fa fa-star\"></i>\n",
       "<i class=\"fa fa-star fa-regular\"></i>\n",
       "</div>\n",
       "<div class=\"col-xs-6\">\n",
       "<img alt=\"PVE\" src=\"/Content/Images/pve-icon.png\"/>\n",
       "<span>4.6</span>\n",
       "</div>\n",
       "<div class=\"col-xs-6\">\n",
       "<img alt=\"PVP\" src=\"/Content/Images/pvp-icon.png\"/>\n",
       "<span>3.4</span>\n",
       "</div>\n",
       "</div>\n",
       "</div>"
      ]
     },
     "execution_count": 87,
     "metadata": {},
     "output_type": "execute_result"
    }
   ],
   "source": [
    "newitems[49]"
   ]
  },
  {
   "cell_type": "code",
   "execution_count": 122,
   "id": "47cb8de9",
   "metadata": {},
   "outputs": [
    {
     "ename": "IndexError",
     "evalue": "list index out of range",
     "output_type": "error",
     "traceback": [
      "\u001b[1;31m---------------------------------------------------------------------------\u001b[0m",
      "\u001b[1;31mIndexError\u001b[0m                                Traceback (most recent call last)",
      "Cell \u001b[1;32mIn[122], line 1\u001b[0m\n\u001b[1;32m----> 1\u001b[0m \u001b[43mnewitems\u001b[49m\u001b[43m[\u001b[49m\u001b[38;5;241;43m0\u001b[39;49m\u001b[43m]\u001b[49m\u001b[38;5;241;43m.\u001b[39;49m\u001b[43mfindAll\u001b[49m\u001b[43m(\u001b[49m\u001b[38;5;124;43m'\u001b[39;49m\u001b[38;5;124;43mexotic item-name\u001b[39;49m\u001b[38;5;124;43m'\u001b[39;49m\u001b[43m)\u001b[49m\u001b[43m[\u001b[49m\u001b[38;5;241;43m0\u001b[39;49m\u001b[43m]\u001b[49m\n",
      "\u001b[1;31mIndexError\u001b[0m: list index out of range"
     ]
    }
   ],
   "source": [
    "newitems[0].findAll('exotic item-name')[0]"
   ]
  },
  {
   "cell_type": "code",
   "execution_count": 97,
   "id": "d4c59f30",
   "metadata": {},
   "outputs": [
    {
     "ename": "AttributeError",
     "evalue": "'NoneType' object has no attribute 'text'",
     "output_type": "error",
     "traceback": [
      "\u001b[1;31m---------------------------------------------------------------------------\u001b[0m",
      "\u001b[1;31mAttributeError\u001b[0m                            Traceback (most recent call last)",
      "Cell \u001b[1;32mIn[97], line 7\u001b[0m\n\u001b[0;32m      3\u001b[0m its \u001b[38;5;241m=\u001b[39m items\u001b[38;5;241m.\u001b[39mfindAll(\u001b[38;5;124m\"\u001b[39m\u001b[38;5;124mdiv\u001b[39m\u001b[38;5;124m\"\u001b[39m)\n\u001b[0;32m      5\u001b[0m \u001b[38;5;28;01mfor\u001b[39;00m div \u001b[38;5;129;01min\u001b[39;00m its:\n\u001b[0;32m      6\u001b[0m     \u001b[38;5;66;03m#순서\u001b[39;00m\n\u001b[1;32m----> 7\u001b[0m     items_ranking \u001b[38;5;241m=\u001b[39m \u001b[43mdiv\u001b[49m\u001b[38;5;241;43m.\u001b[39;49m\u001b[43mselect_one\u001b[49m\u001b[43m(\u001b[49m\u001b[38;5;124;43m\"\u001b[39;49m\u001b[38;5;124;43m.item-check\u001b[39;49m\u001b[38;5;124;43m\"\u001b[39;49m\u001b[43m)\u001b[49m\u001b[38;5;241;43m.\u001b[39;49m\u001b[43mtext\u001b[49m\n\u001b[0;32m      8\u001b[0m     \u001b[38;5;66;03m#링크와 이름\u001b[39;00m\n\u001b[0;32m      9\u001b[0m     items_title \u001b[38;5;241m=\u001b[39m div\u001b[38;5;241m.\u001b[39mselect_one(\u001b[38;5;124m\"\u001b[39m\u001b[38;5;124m.text-exotic \u001b[39m\u001b[38;5;124m\"\u001b[39m)\n",
      "\u001b[1;31mAttributeError\u001b[0m: 'NoneType' object has no attribute 'text'"
     ]
    }
   ],
   "source": [
    "for items in newitems:\n",
    "    \n",
    "    its = items.findAll(\"div\")\n",
    "    \n",
    "    for div in its:\n",
    "        #순서\n",
    "        items_ranking = div.select_one(\".item-check\").text\n",
    "        #링크와 이름\n",
    "        items_title = div.select_one(\".text-exotic \")\n",
    "        items_name = items_title.text\n",
    "        items_link = items_title.get(\"href\")\n",
    "        #  썸네일\n",
    "        try: items_img = div.select_one(\"img\").get(\"src\")\n",
    "        except: items_img = None\n",
    "        print(\"순서: \", items_ranking)\n",
    "        print(\"무기 이름: \", items_name)\n",
    "        print(\"링크: \", items_link)\n",
    "        print(\"썸네일: \", itmes_img)\n",
    "        \n",
    "        break\n",
    "    break"
   ]
  },
  {
   "cell_type": "code",
   "execution_count": 130,
   "id": "411e763a",
   "metadata": {},
   "outputs": [
    {
     "name": "stdout",
     "output_type": "stream",
     "text": [
      "HTTP 요청 실패: 403\n"
     ]
    }
   ],
   "source": [
    "\n",
    "import requests\n",
    "from bs4 import BeautifulSoup\n",
    "\n",
    "# 크롤링할 웹 페이지 URL\n",
    "url = \"https://www.light.gg/\"\n",
    "\n",
    "# 웹 페이지에 GET 요청 보내기\n",
    "response = requests.get(url)\n",
    "\n",
    "# HTTP 요청이 성공했는지 확인\n",
    "if response.status_code == 200:\n",
    "    # 웹 페이지의 HTML을 BeautifulSoup으로 파싱\n",
    "    soup = BeautifulSoup(response.text, \"html.parser\")\n",
    "    \n",
    "    # 경이무기 정보가 있는 부분을 식별하기 위한 선택자를 사용\n",
    "    # 예를 들어, 경이무기 이름과 링크를 가져오기 위한 선택자를 설정\n",
    "    weapon_elements = soup.select(\".exotic  item-name\")  # 이 부분은 실제 웹사이트 구조에 따라 조정\n",
    "    \n",
    "    # 경이무기 이름과 링크를 저장할 리스트 초기화\n",
    "    weapon_data = []\n",
    "    \n",
    "    # 각 경이무기 정보를 추출하고 리스트에 저장\n",
    "    for weapon_element in weapon_elements:\n",
    "        weapon_name = weapon_element.find(\"h3\").text  # 경이무기 이름\n",
    "        weapon_link = weapon_element.find(\"a\")[\"href\"]  # 경이무기 링크\n",
    "        weapon_type = weapon_element.find(\"span\", class_=\"weapon-type\").text  # 무기 종류\n",
    "        \n",
    "        # 추출한 정보를 딕셔너리로 저장\n",
    "        weapon_info = {\n",
    "            \"Name\": weapon_name,\n",
    "            \"Link\": weapon_link,\n",
    "            \"Type\": weapon_type\n",
    "        }\n",
    "        \n",
    "        # 결과를 리스트에 추가\n",
    "        weapon_data.append(weapon_info)\n",
    "    \n",
    "    # 경이무기 정보 출력\n",
    "    for weapon_info in weapon_data:\n",
    "        print(\"무기 이름:\", weapon_info[\"Name\"])\n",
    "        print(\"무기 종류:\", weapon_info[\"Type\"])\n",
    "        print(\"무기 링크:\", weapon_info[\"Link\"])\n",
    "    \n",
    "else:\n",
    "    print(\"HTTP 요청 실패:\", response.status_code)"
   ]
  },
  {
   "cell_type": "code",
   "execution_count": null,
   "id": "3ff0ec68",
   "metadata": {},
   "outputs": [],
   "source": []
  },
  {
   "cell_type": "code",
   "execution_count": null,
   "id": "e4909a6f",
   "metadata": {},
   "outputs": [],
   "source": []
  },
  {
   "cell_type": "code",
   "execution_count": null,
   "id": "993eda8e",
   "metadata": {},
   "outputs": [],
   "source": []
  },
  {
   "cell_type": "code",
   "execution_count": null,
   "id": "5b8b58ad",
   "metadata": {},
   "outputs": [],
   "source": []
  },
  {
   "cell_type": "code",
   "execution_count": null,
   "id": "66384c34",
   "metadata": {},
   "outputs": [],
   "source": []
  },
  {
   "cell_type": "code",
   "execution_count": null,
   "id": "fa47c461",
   "metadata": {},
   "outputs": [],
   "source": []
  }
 ],
 "metadata": {
  "kernelspec": {
   "display_name": "Python 3 (ipykernel)",
   "language": "python",
   "name": "python3"
  },
  "language_info": {
   "codemirror_mode": {
    "name": "ipython",
    "version": 3
   },
   "file_extension": ".py",
   "mimetype": "text/x-python",
   "name": "python",
   "nbconvert_exporter": "python",
   "pygments_lexer": "ipython3",
   "version": "3.11.2"
  }
 },
 "nbformat": 4,
 "nbformat_minor": 5
}
